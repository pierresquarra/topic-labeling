{
 "cells": [
  {
   "cell_type": "code",
   "execution_count": 1,
   "outputs": [],
   "source": [
    "import gzip\n",
    "import json\n",
    "import random"
   ],
   "metadata": {
    "collapsed": false,
    "ExecuteTime": {
     "end_time": "2023-09-20T13:20:58.528110300Z",
     "start_time": "2023-09-20T13:20:58.525577700Z"
    }
   },
   "id": "ff7c1d415c61946b"
  },
  {
   "cell_type": "code",
   "execution_count": 2,
   "outputs": [],
   "source": [
    "def parse(path):\n",
    "    g = gzip.open(path, \"r\")\n",
    "    for l in g:\n",
    "        yield json.loads(l)\n",
    "\n",
    "\n",
    "def print_reviews(data):\n",
    "    for review in data:\n",
    "        if \"reviewText\" in review:\n",
    "            print(review[\"reviewText\"])"
   ],
   "metadata": {
    "collapsed": false,
    "ExecuteTime": {
     "end_time": "2023-09-20T13:20:59.228941400Z",
     "start_time": "2023-09-20T13:20:59.228428800Z"
    }
   },
   "id": "312262de1d3bd48e"
  },
  {
   "cell_type": "code",
   "execution_count": 3,
   "id": "initial_id",
   "metadata": {
    "collapsed": true,
    "ExecuteTime": {
     "end_time": "2023-09-20T13:21:01.092422200Z",
     "start_time": "2023-09-20T13:21:01.062383100Z"
    }
   },
   "outputs": [],
   "source": [
    "path = \"data/AMAZON_FASHION_5.json.gz\"\n",
    "data = parse(path)\n",
    "batch_size = 5  # number of reviews to query from dataset\n",
    "\n",
    "all_reviews = list(data)\n",
    "reviews = random.sample(all_reviews, batch_size)"
   ]
  },
  {
   "cell_type": "code",
   "execution_count": 6,
   "outputs": [],
   "source": [
    "reviews_str = \"\\n\".join([f\"Review {i+1}: {review['reviewText']}\" for i, review in enumerate(reviews)])"
   ],
   "metadata": {
    "collapsed": false,
    "ExecuteTime": {
     "end_time": "2023-09-20T13:23:32.741650500Z",
     "start_time": "2023-09-20T13:23:32.739136400Z"
    }
   },
   "id": "637cb8094f3e2df3"
  },
  {
   "cell_type": "code",
   "execution_count": 7,
   "outputs": [
    {
     "data": {
      "text/plain": "'Review 1: Arrived in time. Fit as exoected. They take some breaking in but I wore them 2 days in a row for more than five hours per day.\\nReview 2: I really like them!\\nReview 3: Super comfy!\\nReview 4: Did not fit well. Was not comfortable. Switched to \"Fruit of the loom\". Fruit of the loom are somewhat oversized but fit well and are very comfortable.\\nReview 5: Great! Super comfy and cute! No issues and fit perfect!'"
     },
     "execution_count": 7,
     "metadata": {},
     "output_type": "execute_result"
    }
   ],
   "source": [
    "reviews_str"
   ],
   "metadata": {
    "collapsed": false,
    "ExecuteTime": {
     "end_time": "2023-09-20T13:23:36.327586200Z",
     "start_time": "2023-09-20T13:23:36.323201Z"
    }
   },
   "id": "7704a82bae81efdf"
  }
 ],
 "metadata": {
  "kernelspec": {
   "display_name": "Python 3",
   "language": "python",
   "name": "python3"
  },
  "language_info": {
   "codemirror_mode": {
    "name": "ipython",
    "version": 2
   },
   "file_extension": ".py",
   "mimetype": "text/x-python",
   "name": "python",
   "nbconvert_exporter": "python",
   "pygments_lexer": "ipython2",
   "version": "2.7.6"
  }
 },
 "nbformat": 4,
 "nbformat_minor": 5
}
